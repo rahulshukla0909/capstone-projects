{
 "cells": [
  {
   "cell_type": "code",
   "execution_count": 1,
   "id": "2f0663a4",
   "metadata": {},
   "outputs": [],
   "source": [
    "import pandas as pd\n",
    "import numpy as np\n",
    "import numpy as np # linear algebra\n",
    "import pandas as pd # data processing, CSV file I/O (e.g. pd.read_csv)\n",
    "from sklearn.model_selection import train_test_split\n",
    "from sklearn.naive_bayes import MultinomialNB\n",
    "from sklearn.svm import SVC\n",
    "from sklearn.ensemble import RandomForestClassifier\n",
    "from sklearn.metrics import accuracy_score"
   ]
  },
  {
   "cell_type": "code",
   "execution_count": 2,
   "id": "0645a5fa",
   "metadata": {},
   "outputs": [],
   "source": [
    "data  = pd.read_csv(\"emails.csv\")"
   ]
  },
  {
   "cell_type": "code",
   "execution_count": 3,
   "id": "4e3cc336",
   "metadata": {},
   "outputs": [],
   "source": [
    "X = data.iloc[:,1:3001]\n",
    "Y = data.iloc[:,-1].values"
   ]
  },
  {
   "cell_type": "code",
   "execution_count": 4,
   "id": "e455acef",
   "metadata": {},
   "outputs": [],
   "source": [
    "train_x,test_x,train_y,test_y = train_test_split(X,Y,test_size = 0.25)"
   ]
  },
  {
   "cell_type": "code",
   "execution_count": 5,
   "id": "0a8a7a88",
   "metadata": {},
   "outputs": [
    {
     "name": "stdout",
     "output_type": "stream",
     "text": [
      "Accuracy Score for Naive Bayes :  0.9520494972931168\n"
     ]
    }
   ],
   "source": [
    "mnb = MultinomialNB(alpha=1.9)       \n",
    "mnb.fit(train_x,train_y)\n",
    "y_pred = mnb.predict(test_x)\n",
    "print(\"Accuracy Score for Naive Bayes : \", accuracy_score(y_pred,test_y))"
   ]
  },
  {
   "cell_type": "code",
   "execution_count": 6,
   "id": "015722fc",
   "metadata": {},
   "outputs": [
    {
     "name": "stdout",
     "output_type": "stream",
     "text": [
      "Accuracy Score for SVC :  0.8901778808971385\n"
     ]
    }
   ],
   "source": [
    "svc = SVC(C=1.0,kernel='rbf',gamma='auto') \n",
    "svc.fit(train_x,train_y)\n",
    "y_pred2 = svc.predict(test_x)\n",
    "print(\"Accuracy Score for SVC : \", accuracy_score(y_pred2,test_y))"
   ]
  },
  {
   "cell_type": "code",
   "execution_count": 7,
   "id": "3e3b52eb",
   "metadata": {},
   "outputs": [
    {
     "name": "stdout",
     "output_type": "stream",
     "text": [
      "Accuracy Score of Random Forest Classifier :  0.9706109822119103\n"
     ]
    }
   ],
   "source": [
    "rfc = RandomForestClassifier(n_estimators=100,criterion='gini')\n",
    "rfc.fit(train_x,train_y)\n",
    "y_pred3 = rfc.predict(test_x)\n",
    "print(\"Accuracy Score of Random Forest Classifier : \", accuracy_score(y_pred3,test_y))"
   ]
  },
  {
   "cell_type": "code",
   "execution_count": 11,
   "id": "dd67dc42",
   "metadata": {},
   "outputs": [
    {
     "name": "stdout",
     "output_type": "stream",
     "text": [
      "Accuracy score: 0.9288476411446249\n",
      "Confusion matrix:\n",
      " [[853  50]\n",
      " [ 42 348]]\n",
      "Classification report:\n",
      "               precision    recall  f1-score   support\n",
      "\n",
      "           0       0.95      0.94      0.95       903\n",
      "           1       0.87      0.89      0.88       390\n",
      "\n",
      "    accuracy                           0.93      1293\n",
      "   macro avg       0.91      0.92      0.92      1293\n",
      "weighted avg       0.93      0.93      0.93      1293\n",
      "\n"
     ]
    }
   ],
   "source": [
    "from sklearn.tree import DecisionTreeClassifier\n",
    "from sklearn.metrics import accuracy_score, confusion_matrix, classification_report\n",
    "dt = DecisionTreeClassifier(random_state=42)\n",
    "dt.fit(train_x, train_y)\n",
    "y_pred4 = dt.predict(test_x)\n",
    "\n",
    "print('Accuracy score:', accuracy_score(test_y, y_pred4))\n",
    "print('Confusion matrix:\\n', confusion_matrix(test_y, y_pred4))\n",
    "print('Classification report:\\n', classification_report(test_y, y_pred4))"
   ]
  },
  {
   "cell_type": "code",
   "execution_count": null,
   "id": "9a40f5b6",
   "metadata": {},
   "outputs": [],
   "source": [
    "from sklearn.tree import DecisionTreeClassifier\n",
    "from sklearn.ensemble import BaggingClassifier\n",
    "\n",
    "# tree = DecisionTreeClassifier()\n",
    "bag = BaggingClassifier(dt, n_estimators=100, max_samples=1.0,\n",
    "random_state=1)\n",
    "\n",
    "# bag.fit(X, y)\n",
    "bag.fit(train_x, train_y)\n",
    "y_pred5 = bag.predict(test_x)"
   ]
  },
  {
   "cell_type": "code",
   "execution_count": 18,
   "id": "060f66ea",
   "metadata": {},
   "outputs": [
    {
     "name": "stdout",
     "output_type": "stream",
     "text": [
      "Accuracy score: 0.9651972157772621\n"
     ]
    }
   ],
   "source": [
    "print('Accuracy score:', accuracy_score(test_y, y_pred))"
   ]
  },
  {
   "cell_type": "code",
   "execution_count": null,
   "id": "b83e18f8",
   "metadata": {},
   "outputs": [],
   "source": []
  }
 ],
 "metadata": {
  "kernelspec": {
   "display_name": "Python 3",
   "language": "python",
   "name": "python3"
  },
  "language_info": {
   "codemirror_mode": {
    "name": "ipython",
    "version": 3
   },
   "file_extension": ".py",
   "mimetype": "text/x-python",
   "name": "python",
   "nbconvert_exporter": "python",
   "pygments_lexer": "ipython3",
   "version": "3.8.8"
  }
 },
 "nbformat": 4,
 "nbformat_minor": 5
}
